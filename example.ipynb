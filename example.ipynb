{
 "cells": [
  {
   "cell_type": "code",
   "execution_count": 1,
   "id": "d97425d9-2965-4310-a271-300587751108",
   "metadata": {},
   "outputs": [
    {
     "name": "stdout",
     "output_type": "stream",
     "text": [
      "Defaulting to user installation because normal site-packages is not writeable\n",
      "Requirement already satisfied: aiohttp in /home/anders/.local/lib/python3.10/site-packages (3.8.5)\n",
      "Requirement already satisfied: charset-normalizer<4.0,>=2.0 in /home/anders/.local/lib/python3.10/site-packages (from aiohttp) (3.2.0)\n",
      "Requirement already satisfied: attrs>=17.3.0 in /home/anders/.local/lib/python3.10/site-packages (from aiohttp) (23.1.0)\n",
      "Requirement already satisfied: frozenlist>=1.1.1 in /home/anders/.local/lib/python3.10/site-packages (from aiohttp) (1.4.0)\n",
      "Requirement already satisfied: yarl<2.0,>=1.0 in /home/anders/.local/lib/python3.10/site-packages (from aiohttp) (1.9.2)\n",
      "Requirement already satisfied: async-timeout<5.0,>=4.0.0a3 in /home/anders/.local/lib/python3.10/site-packages (from aiohttp) (4.0.3)\n",
      "Requirement already satisfied: multidict<7.0,>=4.5 in /home/anders/.local/lib/python3.10/site-packages (from aiohttp) (6.0.4)\n",
      "Requirement already satisfied: aiosignal>=1.1.2 in /home/anders/.local/lib/python3.10/site-packages (from aiohttp) (1.3.1)\n",
      "Requirement already satisfied: idna>=2.0 in /usr/lib/python3/dist-packages (from yarl<2.0,>=1.0->aiohttp) (3.3)\n",
      "Note: you may need to restart the kernel to use updated packages.\n"
     ]
    }
   ],
   "source": [
    "%pip install aiohttp"
   ]
  },
  {
   "cell_type": "code",
   "execution_count": 2,
   "id": "b1178a72-2dae-4f25-b185-3e5306b7e414",
   "metadata": {},
   "outputs": [],
   "source": [
    "import asyncio\n",
    "import aiohttp"
   ]
  },
  {
   "cell_type": "code",
   "execution_count": 3,
   "id": "c9900abf-e52e-4c85-a1e6-a4dd1bc5f6e7",
   "metadata": {},
   "outputs": [],
   "source": [
    "async def myfun(delay):\n",
    "    await asyncio.sleep(delay)\n",
    "    print(\"done\")"
   ]
  },
  {
   "cell_type": "code",
   "execution_count": 4,
   "id": "0a9dae32-93d4-4c28-b288-82e696f5425d",
   "metadata": {},
   "outputs": [],
   "source": [
    "async def fun2():\n",
    "    t1 = asyncio.create_task(myfun(1))\n",
    "    t2 = asyncio.create_task(myfun(2))\n",
    "    tasks = [t1, t2]\n",
    "    print(\"2\")\n",
    "    #await t1\n",
    "    #await t2\n",
    "    #await asyncio.gather(*tasks)\n",
    "    for t in tasks:\n",
    "        await t\n",
    "        \n",
    "    print(\"3\")"
   ]
  },
  {
   "cell_type": "code",
   "execution_count": 5,
   "id": "69a024b7-18b0-44ad-9460-6278ee379841",
   "metadata": {},
   "outputs": [],
   "source": [
    "from ball_control import BallControl\n",
    "from control_factory import get_control_sim"
   ]
  },
  {
   "cell_type": "code",
   "execution_count": 6,
   "id": "15bc71ce-7ee2-45a3-9dec-3a4657dd4cb9",
   "metadata": {},
   "outputs": [],
   "source": [
    "async def sequence_concurrent(bc: BallControl):\n",
    "    t1 = asyncio.create_task(bc.move_vertically(2))\n",
    "    t2 = asyncio.create_task(bc.move_horizontally(3))\n",
    "    await t1\n",
    "    await t2\n",
    "\n",
    "    t3 = asyncio.create_task(bc.move_vertically(-2))\n",
    "    t4 = asyncio.create_task(bc.move_horizontally(-1))\n",
    "    await t3\n",
    "    await t4"
   ]
  },
  {
   "cell_type": "code",
   "execution_count": 7,
   "id": "317c8ccd-9faa-4e74-baea-dd1a76293e45",
   "metadata": {},
   "outputs": [],
   "source": [
    "bcontrol = get_control_sim()"
   ]
  },
  {
   "cell_type": "code",
   "execution_count": 8,
   "id": "f590fb45-0dce-4c8e-b360-9c1e0ec07c65",
   "metadata": {},
   "outputs": [
    {
     "name": "stdout",
     "output_type": "stream",
     "text": [
      "new position: 0, 2\n",
      "new position: 3, 2\n",
      "200\n",
      "{\n",
      "  \"userId\": \"glen\",\n",
      "  \"state\": {\n",
      "    \"nofRows\": 4,\n",
      "    \"nofCols\": 5,\n",
      "    \"posX\": 0,\n",
      "    \"posY\": 2\n",
      "  }\n",
      "}\n",
      "200\n",
      "{\n",
      "  \"userId\": \"glen\",\n",
      "  \"state\": {\n",
      "    \"nofRows\": 4,\n",
      "    \"nofCols\": 5,\n",
      "    \"posX\": 3,\n",
      "    \"posY\": 2\n",
      "  }\n",
      "}\n",
      "new position: 3, 0\n",
      "new position: 2, 0\n",
      "200\n",
      "{\n",
      "  \"userId\": \"glen\",\n",
      "  \"state\": {\n",
      "    \"nofRows\": 4,\n",
      "    \"nofCols\": 5,\n",
      "    \"posX\": 3,\n",
      "    \"posY\": 0\n",
      "  }\n",
      "}\n",
      "200\n",
      "{\n",
      "  \"userId\": \"glen\",\n",
      "  \"state\": {\n",
      "    \"nofRows\": 4,\n",
      "    \"nofCols\": 5,\n",
      "    \"posX\": 2,\n",
      "    \"posY\": 0\n",
      "  }\n",
      "}\n"
     ]
    }
   ],
   "source": [
    "await sequence_concurrent(bcontrol)"
   ]
  },
  {
   "cell_type": "code",
   "execution_count": 9,
   "id": "96bbc135-3847-4353-bb5a-f80c8eaf7dcc",
   "metadata": {},
   "outputs": [
    {
     "name": "stdout",
     "output_type": "stream",
     "text": [
      "new position: 1, 0\n",
      "200\n",
      "{\n",
      "  \"userId\": \"glen\",\n",
      "  \"state\": {\n",
      "    \"nofRows\": 4,\n",
      "    \"nofCols\": 5,\n",
      "    \"posX\": 1,\n",
      "    \"posY\": 0\n",
      "  }\n",
      "}\n"
     ]
    }
   ],
   "source": [
    "await bcontrol.move_horizontally(-1)"
   ]
  },
  {
   "cell_type": "code",
   "execution_count": null,
   "id": "a4a14101-7238-42fe-a743-8ebdb668c8a7",
   "metadata": {},
   "outputs": [],
   "source": []
  }
 ],
 "metadata": {
  "kernelspec": {
   "display_name": "Python 3 (ipykernel)",
   "language": "python",
   "name": "python3"
  },
  "language_info": {
   "codemirror_mode": {
    "name": "ipython",
    "version": 3
   },
   "file_extension": ".py",
   "mimetype": "text/x-python",
   "name": "python",
   "nbconvert_exporter": "python",
   "pygments_lexer": "ipython3",
   "version": "3.10.12"
  }
 },
 "nbformat": 4,
 "nbformat_minor": 5
}
