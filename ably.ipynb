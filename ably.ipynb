{
 "cells": [
  {
   "cell_type": "code",
   "execution_count": 1,
   "id": "0066aa9b-3fb9-42f9-ac84-604ff708c26c",
   "metadata": {},
   "outputs": [
    {
     "name": "stdout",
     "output_type": "stream",
     "text": [
      "Defaulting to user installation because normal site-packages is not writeable\n",
      "Requirement already satisfied: ably in /home/anders/.local/lib/python3.10/site-packages (2.0.0)\n",
      "Requirement already satisfied: methoddispatch<4.0.0,>=3.0.2 in /home/anders/.local/lib/python3.10/site-packages (from ably) (3.0.2)\n",
      "Requirement already satisfied: websockets<11.0,>=10.3 in /home/anders/.local/lib/python3.10/site-packages (from ably) (10.4)\n",
      "Requirement already satisfied: pyee<10.0.0,>=9.0.4 in /home/anders/.local/lib/python3.10/site-packages (from ably) (9.1.1)\n",
      "Requirement already satisfied: msgpack<2.0.0,>=1.0.0 in /home/anders/.local/lib/python3.10/site-packages (from ably) (1.0.5)\n",
      "Requirement already satisfied: h2<5.0.0,>=4.0.0 in /home/anders/.local/lib/python3.10/site-packages (from ably) (4.1.0)\n",
      "Requirement already satisfied: httpx<0.24.0,>=0.23.0 in /home/anders/.local/lib/python3.10/site-packages (from ably) (0.23.3)\n",
      "Requirement already satisfied: hyperframe<7,>=6.0 in /home/anders/.local/lib/python3.10/site-packages (from h2<5.0.0,>=4.0.0->ably) (6.0.1)\n",
      "Requirement already satisfied: hpack<5,>=4.0 in /home/anders/.local/lib/python3.10/site-packages (from h2<5.0.0,>=4.0.0->ably) (4.0.0)\n",
      "Requirement already satisfied: httpcore<0.17.0,>=0.15.0 in /home/anders/.local/lib/python3.10/site-packages (from httpx<0.24.0,>=0.23.0->ably) (0.16.3)\n",
      "Requirement already satisfied: sniffio in /home/anders/.local/lib/python3.10/site-packages (from httpx<0.24.0,>=0.23.0->ably) (1.3.0)\n",
      "Requirement already satisfied: certifi in /usr/lib/python3/dist-packages (from httpx<0.24.0,>=0.23.0->ably) (2020.6.20)\n",
      "Requirement already satisfied: rfc3986[idna2008]<2,>=1.3 in /home/anders/.local/lib/python3.10/site-packages (from httpx<0.24.0,>=0.23.0->ably) (1.5.0)\n",
      "Requirement already satisfied: typing-extensions in /home/anders/.local/lib/python3.10/site-packages (from pyee<10.0.0,>=9.0.4->ably) (4.7.1)\n",
      "Requirement already satisfied: h11<0.15,>=0.13 in /home/anders/.local/lib/python3.10/site-packages (from httpcore<0.17.0,>=0.15.0->httpx<0.24.0,>=0.23.0->ably) (0.14.0)\n",
      "Requirement already satisfied: anyio<5.0,>=3.0 in /home/anders/.local/lib/python3.10/site-packages (from httpcore<0.17.0,>=0.15.0->httpx<0.24.0,>=0.23.0->ably) (3.7.1)\n",
      "Requirement already satisfied: idna in /usr/lib/python3/dist-packages (from rfc3986[idna2008]<2,>=1.3->httpx<0.24.0,>=0.23.0->ably) (3.3)\n",
      "Requirement already satisfied: exceptiongroup in /home/anders/.local/lib/python3.10/site-packages (from anyio<5.0,>=3.0->httpcore<0.17.0,>=0.15.0->httpx<0.24.0,>=0.23.0->ably) (1.1.2)\n",
      "Note: you may need to restart the kernel to use updated packages.\n"
     ]
    }
   ],
   "source": [
    "%pip install ably"
   ]
  },
  {
   "cell_type": "code",
   "execution_count": 3,
   "id": "3f67fb6d-ee14-4408-95dd-09b4d473a934",
   "metadata": {},
   "outputs": [],
   "source": [
    "from ably import AblyRest"
   ]
  },
  {
   "cell_type": "code",
   "execution_count": 4,
   "id": "4d6b3e81-e948-483b-9df2-b073ba31ce66",
   "metadata": {},
   "outputs": [],
   "source": [
    "apiKey = 'ymu-SQ.ku-nlw:2yCDZJjeVuUB5a2ieEYw9E-7RbZWFdkcmjRVbVwhHsk'"
   ]
  },
  {
   "cell_type": "code",
   "execution_count": 5,
   "id": "ede5c039-8c37-4ee7-b57a-1783805b46b3",
   "metadata": {},
   "outputs": [],
   "source": [
    "client = AblyRest(apiKey)"
   ]
  },
  {
   "cell_type": "code",
   "execution_count": 7,
   "id": "435b1878-fc5e-4bc7-84ab-e50388e5f544",
   "metadata": {},
   "outputs": [],
   "source": [
    "channel = client.channels.get('glen')"
   ]
  },
  {
   "cell_type": "code",
   "execution_count": 23,
   "id": "197d15f3-b321-4acd-8893-164368f16285",
   "metadata": {},
   "outputs": [],
   "source": [
    "newX = 3\n",
    "newY = 2"
   ]
  },
  {
   "cell_type": "code",
   "execution_count": 24,
   "id": "ee4941a4-62bc-48d1-88ef-d958e1b08b12",
   "metadata": {},
   "outputs": [],
   "source": [
    "stateobj = {\"userId\": \"glen\", \"state\": {\"nofRows\":4, \"nofCols\":5, \"posX\":newX, \"posY\":newY, \"apa\":78}}"
   ]
  },
  {
   "cell_type": "code",
   "execution_count": 30,
   "id": "490598d3-2b70-418f-91cb-d4214bd9c6af",
   "metadata": {},
   "outputs": [
    {
     "data": {
      "text/plain": [
       "<ably.http.http.Response at 0x7efc7c1576d0>"
      ]
     },
     "execution_count": 30,
     "metadata": {},
     "output_type": "execute_result"
    }
   ],
   "source": [
    "await channel.publish('randomeventname', stateobj)"
   ]
  },
  {
   "cell_type": "code",
   "execution_count": null,
   "id": "2eedb4f2-759f-4642-a4dd-32f65055ffd1",
   "metadata": {},
   "outputs": [],
   "source": []
  },
  {
   "cell_type": "code",
   "execution_count": null,
   "id": "f3830908-fd6f-4ab5-8673-7ba80317eb8b",
   "metadata": {},
   "outputs": [],
   "source": []
  }
 ],
 "metadata": {
  "kernelspec": {
   "display_name": "Python 3 (ipykernel)",
   "language": "python",
   "name": "python3"
  },
  "language_info": {
   "codemirror_mode": {
    "name": "ipython",
    "version": 3
   },
   "file_extension": ".py",
   "mimetype": "text/x-python",
   "name": "python",
   "nbconvert_exporter": "python",
   "pygments_lexer": "ipython3",
   "version": "3.10.12"
  }
 },
 "nbformat": 4,
 "nbformat_minor": 5
}
